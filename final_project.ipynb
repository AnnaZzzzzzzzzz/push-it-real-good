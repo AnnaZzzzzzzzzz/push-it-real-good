{
 "cells": [
  {
   "cell_type": "code",
   "execution_count": 220,
   "id": "80342ff4",
   "metadata": {},
   "outputs": [],
   "source": [
    "import pandas as pd\n",
    "import numpy as np\n",
    "import matplotlib.pyplot as plt\n",
    "import seaborn as sns\n",
    "\n",
    "import requests\n",
    "from urllib.parse import urlencode\n",
    "import json"
   ]
  },
  {
   "cell_type": "markdown",
   "id": "ac92a559",
   "metadata": {},
   "source": [
    "# Задание 1"
   ]
  },
  {
   "cell_type": "markdown",
   "id": "550acdc5",
   "metadata": {},
   "source": [
    "Загрузим данные наиболее удобным образом через API. Т.к. файлов несколько, создадим функцию get_data"
   ]
  },
  {
   "cell_type": "code",
   "execution_count": 221,
   "id": "e225eeee",
   "metadata": {},
   "outputs": [],
   "source": [
    "def get_data(public_key, sep):\n",
    "    base_url = 'https://cloud-api.yandex.net/v1/disk/public/resources/download?'\n",
    "    url=base_url+urlencode({'public_key': public_key})\n",
    "    query=requests.get(url)\n",
    "    json_data = json.loads(query.text)\n",
    "    df=pd.read_csv(json_data['href'], sep=sep)\n",
    "    return df"
   ]
  },
  {
   "cell_type": "code",
   "execution_count": 222,
   "id": "436e5e73",
   "metadata": {},
   "outputs": [],
   "source": [
    "groups_url = 'https://disk.yandex.ru/d/UhyYx41rTt3clQ'\n",
    "groups_add_url = 'https://disk.yandex.ru/d/5Kxrz02m3IBUwQ'\n",
    "active_studs_url = 'https://disk.yandex.ru/d/Tbs44Bm6H_FwFQ'\n",
    "checks_url = 'https://disk.yandex.ru/d/pH1q-VqcxXjsVA'\n",
    "\n",
    "df_groups=get_data(groups_url,';') #датасет с информацией о принадлежности пользователя к контрольной или экспериментальной группе (А – контроль, B – целевая группа) \n",
    "df_groups_add=get_data(groups_add_url,',') #дополнительный датасет с пользователями, присланный позднее\n",
    "df_active_studs=get_data(active_studs_url,';') # пользователи, которые зашли на платформу в дни проведения эксперимента \n",
    "df_checks=get_data(checks_url,';') #оплата пользователей в дни проведения эксперимента"
   ]
  },
  {
   "cell_type": "markdown",
   "id": "1182aeed",
   "metadata": {},
   "source": [
    "Необходимо проанализировать итоги эксперимента и сделать вывод, стоит ли запускать новую механику оплаты на всех пользователей"
   ]
  },
  {
   "cell_type": "markdown",
   "id": "bc2b3316",
   "metadata": {},
   "source": [
    "## EDA"
   ]
  },
  {
   "cell_type": "code",
   "execution_count": 223,
   "id": "8cf6aa17",
   "metadata": {},
   "outputs": [
    {
     "name": "stdout",
     "output_type": "stream",
     "text": [
      "<class 'pandas.core.frame.DataFrame'>\n",
      "RangeIndex: 74484 entries, 0 to 74483\n",
      "Data columns (total 2 columns):\n",
      " #   Column  Non-Null Count  Dtype \n",
      "---  ------  --------------  ----- \n",
      " 0   id      74484 non-null  int64 \n",
      " 1   grp     74484 non-null  object\n",
      "dtypes: int64(1), object(1)\n",
      "memory usage: 1.1+ MB\n"
     ]
    }
   ],
   "source": [
    "df_groups.info() #null-значений нет"
   ]
  },
  {
   "cell_type": "code",
   "execution_count": 224,
   "id": "280b4b5d",
   "metadata": {},
   "outputs": [
    {
     "data": {
      "text/plain": [
       "(74484, 2)"
      ]
     },
     "execution_count": 224,
     "metadata": {},
     "output_type": "execute_result"
    }
   ],
   "source": [
    "df_groups.shape #всего в датафрейме 74484 пользователя"
   ]
  },
  {
   "cell_type": "code",
   "execution_count": 225,
   "id": "2e03e7e2",
   "metadata": {},
   "outputs": [
    {
     "data": {
      "text/plain": [
       "74484"
      ]
     },
     "execution_count": 225,
     "metadata": {},
     "output_type": "execute_result"
    }
   ],
   "source": [
    "df_groups.id.nunique() #проверили, что все пользователи в датасете уникальные"
   ]
  },
  {
   "cell_type": "markdown",
   "id": "0eb6d0bf",
   "metadata": {},
   "source": [
    "Найдём количество пользователей в контрольной и экспериментальной группах - большинство из них в целевой группе"
   ]
  },
  {
   "cell_type": "code",
   "execution_count": 226,
   "id": "c4175ec3",
   "metadata": {
    "scrolled": true
   },
   "outputs": [
    {
     "data": {
      "text/html": [
       "<div>\n",
       "<style scoped>\n",
       "    .dataframe tbody tr th:only-of-type {\n",
       "        vertical-align: middle;\n",
       "    }\n",
       "\n",
       "    .dataframe tbody tr th {\n",
       "        vertical-align: top;\n",
       "    }\n",
       "\n",
       "    .dataframe thead th {\n",
       "        text-align: right;\n",
       "    }\n",
       "</style>\n",
       "<table border=\"1\" class=\"dataframe\">\n",
       "  <thead>\n",
       "    <tr style=\"text-align: right;\">\n",
       "      <th></th>\n",
       "      <th>Количество уникальных пользователей в группе</th>\n",
       "    </tr>\n",
       "    <tr>\n",
       "      <th>grp</th>\n",
       "      <th></th>\n",
       "    </tr>\n",
       "  </thead>\n",
       "  <tbody>\n",
       "    <tr>\n",
       "      <th>A</th>\n",
       "      <td>14671</td>\n",
       "    </tr>\n",
       "    <tr>\n",
       "      <th>B</th>\n",
       "      <td>59813</td>\n",
       "    </tr>\n",
       "  </tbody>\n",
       "</table>\n",
       "</div>"
      ],
      "text/plain": [
       "     Количество уникальных пользователей в группе\n",
       "grp                                              \n",
       "A                                           14671\n",
       "B                                           59813"
      ]
     },
     "execution_count": 226,
     "metadata": {},
     "output_type": "execute_result"
    }
   ],
   "source": [
    "df_groups.groupby('grp').agg({'id':'count'}).rename(columns={'id':'Количество уникальных пользователей в группе'})"
   ]
  },
  {
   "cell_type": "markdown",
   "id": "06a8b8e3",
   "metadata": {},
   "source": []
  },
  {
   "cell_type": "code",
   "execution_count": 227,
   "id": "195663dd",
   "metadata": {
    "scrolled": true
   },
   "outputs": [
    {
     "name": "stdout",
     "output_type": "stream",
     "text": [
      "<class 'pandas.core.frame.DataFrame'>\n",
      "RangeIndex: 92 entries, 0 to 91\n",
      "Data columns (total 2 columns):\n",
      " #   Column  Non-Null Count  Dtype \n",
      "---  ------  --------------  ----- \n",
      " 0   id      92 non-null     int64 \n",
      " 1   grp     92 non-null     object\n",
      "dtypes: int64(1), object(1)\n",
      "memory usage: 1.6+ KB\n"
     ]
    }
   ],
   "source": [
    "df_groups_add.info() #null-значений нет"
   ]
  },
  {
   "cell_type": "markdown",
   "id": "dd8b4b20",
   "metadata": {},
   "source": [
    "Определим размерность 2 датафрейма с пользователями"
   ]
  },
  {
   "cell_type": "code",
   "execution_count": 228,
   "id": "3617c750",
   "metadata": {},
   "outputs": [
    {
     "data": {
      "text/plain": [
       "(92, 2)"
      ]
     },
     "execution_count": 228,
     "metadata": {},
     "output_type": "execute_result"
    }
   ],
   "source": [
    "df_groups_add.shape #в датафрейме содержатся данные по 92 пользователям"
   ]
  },
  {
   "cell_type": "code",
   "execution_count": 229,
   "id": "585d7c16",
   "metadata": {},
   "outputs": [
    {
     "data": {
      "text/plain": [
       "92"
      ]
     },
     "execution_count": 229,
     "metadata": {},
     "output_type": "execute_result"
    }
   ],
   "source": [
    "df_groups_add.id.nunique() #так же как и ранее удостоверились, что все пользователи в датасете уникальные"
   ]
  },
  {
   "cell_type": "markdown",
   "id": "6efa9fa7",
   "metadata": {},
   "source": [
    "Определим разбивку дополнительных пользователей по группам"
   ]
  },
  {
   "cell_type": "code",
   "execution_count": 230,
   "id": "f9767983",
   "metadata": {},
   "outputs": [
    {
     "data": {
      "text/html": [
       "<div>\n",
       "<style scoped>\n",
       "    .dataframe tbody tr th:only-of-type {\n",
       "        vertical-align: middle;\n",
       "    }\n",
       "\n",
       "    .dataframe tbody tr th {\n",
       "        vertical-align: top;\n",
       "    }\n",
       "\n",
       "    .dataframe thead th {\n",
       "        text-align: right;\n",
       "    }\n",
       "</style>\n",
       "<table border=\"1\" class=\"dataframe\">\n",
       "  <thead>\n",
       "    <tr style=\"text-align: right;\">\n",
       "      <th></th>\n",
       "      <th>Количество уникальных пользователей в группе</th>\n",
       "    </tr>\n",
       "    <tr>\n",
       "      <th>grp</th>\n",
       "      <th></th>\n",
       "    </tr>\n",
       "  </thead>\n",
       "  <tbody>\n",
       "    <tr>\n",
       "      <th>A</th>\n",
       "      <td>22</td>\n",
       "    </tr>\n",
       "    <tr>\n",
       "      <th>B</th>\n",
       "      <td>70</td>\n",
       "    </tr>\n",
       "  </tbody>\n",
       "</table>\n",
       "</div>"
      ],
      "text/plain": [
       "     Количество уникальных пользователей в группе\n",
       "grp                                              \n",
       "A                                              22\n",
       "B                                              70"
      ]
     },
     "execution_count": 230,
     "metadata": {},
     "output_type": "execute_result"
    }
   ],
   "source": [
    "df_groups_add.groupby('grp').agg({'id':'count'}).rename(columns={'id':'Количество уникальных пользователей в группе'})"
   ]
  },
  {
   "cell_type": "markdown",
   "id": "81c73c6a",
   "metadata": {},
   "source": [
    "Большинство из них так же в целевой группе (других групп, как и предполагалось, не выявлено)"
   ]
  },
  {
   "cell_type": "markdown",
   "id": "4f2c67ba",
   "metadata": {},
   "source": [
    "Объединим всех пользователей в один датасет, используя функцию concat"
   ]
  },
  {
   "cell_type": "code",
   "execution_count": 231,
   "id": "8800f890",
   "metadata": {},
   "outputs": [
    {
     "data": {
      "text/html": [
       "<div>\n",
       "<style scoped>\n",
       "    .dataframe tbody tr th:only-of-type {\n",
       "        vertical-align: middle;\n",
       "    }\n",
       "\n",
       "    .dataframe tbody tr th {\n",
       "        vertical-align: top;\n",
       "    }\n",
       "\n",
       "    .dataframe thead th {\n",
       "        text-align: right;\n",
       "    }\n",
       "</style>\n",
       "<table border=\"1\" class=\"dataframe\">\n",
       "  <thead>\n",
       "    <tr style=\"text-align: right;\">\n",
       "      <th></th>\n",
       "      <th>id</th>\n",
       "      <th>grp</th>\n",
       "    </tr>\n",
       "  </thead>\n",
       "  <tbody>\n",
       "    <tr>\n",
       "      <th>0</th>\n",
       "      <td>1489</td>\n",
       "      <td>B</td>\n",
       "    </tr>\n",
       "    <tr>\n",
       "      <th>1</th>\n",
       "      <td>1627</td>\n",
       "      <td>A</td>\n",
       "    </tr>\n",
       "    <tr>\n",
       "      <th>2</th>\n",
       "      <td>1768</td>\n",
       "      <td>B</td>\n",
       "    </tr>\n",
       "    <tr>\n",
       "      <th>3</th>\n",
       "      <td>1783</td>\n",
       "      <td>B</td>\n",
       "    </tr>\n",
       "    <tr>\n",
       "      <th>4</th>\n",
       "      <td>1794</td>\n",
       "      <td>A</td>\n",
       "    </tr>\n",
       "    <tr>\n",
       "      <th>...</th>\n",
       "      <td>...</td>\n",
       "      <td>...</td>\n",
       "    </tr>\n",
       "    <tr>\n",
       "      <th>74571</th>\n",
       "      <td>200247820</td>\n",
       "      <td>B</td>\n",
       "    </tr>\n",
       "    <tr>\n",
       "      <th>74572</th>\n",
       "      <td>201032527</td>\n",
       "      <td>B</td>\n",
       "    </tr>\n",
       "    <tr>\n",
       "      <th>74573</th>\n",
       "      <td>201067612</td>\n",
       "      <td>B</td>\n",
       "    </tr>\n",
       "    <tr>\n",
       "      <th>74574</th>\n",
       "      <td>201067653</td>\n",
       "      <td>B</td>\n",
       "    </tr>\n",
       "    <tr>\n",
       "      <th>74575</th>\n",
       "      <td>201067659</td>\n",
       "      <td>B</td>\n",
       "    </tr>\n",
       "  </tbody>\n",
       "</table>\n",
       "<p>74576 rows × 2 columns</p>\n",
       "</div>"
      ],
      "text/plain": [
       "              id grp\n",
       "0           1489   B\n",
       "1           1627   A\n",
       "2           1768   B\n",
       "3           1783   B\n",
       "4           1794   A\n",
       "...          ...  ..\n",
       "74571  200247820   B\n",
       "74572  201032527   B\n",
       "74573  201067612   B\n",
       "74574  201067653   B\n",
       "74575  201067659   B\n",
       "\n",
       "[74576 rows x 2 columns]"
      ]
     },
     "execution_count": 231,
     "metadata": {},
     "output_type": "execute_result"
    }
   ],
   "source": [
    "df_groups_all=pd.concat([df_groups,df_groups_add], ignore_index=True)\n",
    "df_groups_all"
   ]
  },
  {
   "cell_type": "markdown",
   "id": "e9cf1944",
   "metadata": {},
   "source": [
    "Исследуем датасет с активными пользователями в дни проведения эксперимента"
   ]
  },
  {
   "cell_type": "code",
   "execution_count": 232,
   "id": "aa43b711",
   "metadata": {},
   "outputs": [
    {
     "name": "stdout",
     "output_type": "stream",
     "text": [
      "<class 'pandas.core.frame.DataFrame'>\n",
      "RangeIndex: 8341 entries, 0 to 8340\n",
      "Data columns (total 1 columns):\n",
      " #   Column      Non-Null Count  Dtype\n",
      "---  ------      --------------  -----\n",
      " 0   student_id  8341 non-null   int64\n",
      "dtypes: int64(1)\n",
      "memory usage: 65.3 KB\n"
     ]
    }
   ],
   "source": [
    "df_active_studs.info() #null-значений нет"
   ]
  },
  {
   "cell_type": "code",
   "execution_count": 233,
   "id": "365b139b",
   "metadata": {},
   "outputs": [
    {
     "data": {
      "text/plain": [
       "(8341, 1)"
      ]
     },
     "execution_count": 233,
     "metadata": {},
     "output_type": "execute_result"
    }
   ],
   "source": [
    "df_active_studs.shape "
   ]
  },
  {
   "cell_type": "code",
   "execution_count": 234,
   "id": "3d4a7e12",
   "metadata": {},
   "outputs": [
    {
     "data": {
      "text/plain": [
       "student_id    8341\n",
       "dtype: int64"
      ]
     },
     "execution_count": 234,
     "metadata": {},
     "output_type": "execute_result"
    }
   ],
   "source": [
    "df_active_studs.nunique()"
   ]
  },
  {
   "cell_type": "code",
   "execution_count": 235,
   "id": "ecd584ab",
   "metadata": {},
   "outputs": [
    {
     "data": {
      "text/plain": [
       "11.18"
      ]
     },
     "execution_count": 235,
     "metadata": {},
     "output_type": "execute_result"
    }
   ],
   "source": [
    "round(df_active_studs.student_id.count()*100/df_groups_all.id.count(),2)"
   ]
  },
  {
   "cell_type": "markdown",
   "id": "4667f429",
   "metadata": {},
   "source": [
    "Всего был активен 8341 уникальный пользователь, что составило 11,18% от всех пользователей"
   ]
  },
  {
   "cell_type": "code",
   "execution_count": 236,
   "id": "8f81a0b3",
   "metadata": {},
   "outputs": [
    {
     "data": {
      "text/plain": [
       "8341"
      ]
     },
     "execution_count": 236,
     "metadata": {},
     "output_type": "execute_result"
    }
   ],
   "source": [
    "df_active_studs.student_id.isin(df_groups_all.id).sum() \n",
    "# все активные пользователи присутствуют в списке всех пользователей сайта"
   ]
  },
  {
   "cell_type": "markdown",
   "id": "c6c6dc12",
   "metadata": {},
   "source": [
    "Исследуем датасет с чеками"
   ]
  },
  {
   "cell_type": "code",
   "execution_count": 237,
   "id": "9544837b",
   "metadata": {},
   "outputs": [
    {
     "name": "stdout",
     "output_type": "stream",
     "text": [
      "<class 'pandas.core.frame.DataFrame'>\n",
      "RangeIndex: 541 entries, 0 to 540\n",
      "Data columns (total 2 columns):\n",
      " #   Column      Non-Null Count  Dtype  \n",
      "---  ------      --------------  -----  \n",
      " 0   student_id  541 non-null    int64  \n",
      " 1   rev         541 non-null    float64\n",
      "dtypes: float64(1), int64(1)\n",
      "memory usage: 8.6 KB\n"
     ]
    }
   ],
   "source": [
    "df_checks.info() #null-значений нет"
   ]
  },
  {
   "cell_type": "code",
   "execution_count": 238,
   "id": "da79e0ea",
   "metadata": {},
   "outputs": [
    {
     "data": {
      "text/plain": [
       "(541, 2)"
      ]
     },
     "execution_count": 238,
     "metadata": {},
     "output_type": "execute_result"
    }
   ],
   "source": [
    "df_checks.shape"
   ]
  },
  {
   "cell_type": "code",
   "execution_count": 239,
   "id": "00498ce7",
   "metadata": {},
   "outputs": [
    {
     "data": {
      "text/plain": [
       "541"
      ]
     },
     "execution_count": 239,
     "metadata": {},
     "output_type": "execute_result"
    }
   ],
   "source": [
    "df_checks.student_id.nunique()"
   ]
  },
  {
   "cell_type": "code",
   "execution_count": 240,
   "id": "dd0dad04",
   "metadata": {},
   "outputs": [
    {
     "data": {
      "text/plain": [
       "6.49"
      ]
     },
     "execution_count": 240,
     "metadata": {},
     "output_type": "execute_result"
    }
   ],
   "source": [
    "round(df_checks.student_id.nunique()*100/df_active_studs.student_id.count(),2)"
   ]
  },
  {
   "cell_type": "markdown",
   "id": "d695a934",
   "metadata": {},
   "source": [
    "Всего 541 пользователь совершил покупку и каждый пользователь был уникальным (т.е. никто не совершал более 1 покупки), что составило 6,49% от тех пользователей, кто в дни эксперимента был активен"
   ]
  },
  {
   "cell_type": "code",
   "execution_count": 241,
   "id": "18ae14fb",
   "metadata": {},
   "outputs": [
    {
     "data": {
      "text/plain": [
       "count     541.00\n",
       "mean     1059.75\n",
       "std       762.71\n",
       "min       199.00\n",
       "25%       290.00\n",
       "50%       840.00\n",
       "75%      1900.00\n",
       "max      4650.00\n",
       "Name: rev, dtype: float64"
      ]
     },
     "execution_count": 241,
     "metadata": {},
     "output_type": "execute_result"
    }
   ],
   "source": [
    "df_checks.rev.describe().round(2)"
   ]
  },
  {
   "cell_type": "markdown",
   "id": "923f5ef4",
   "metadata": {},
   "source": [
    "Средний чек был равен приблизительно 1060 у.е., при этом чек половины пользователей был равен 840 у.е. или менее. Максимальный чек достиг величины 4650 у.е., в то время как минимальный 199 у.е. Отрицательных чеков как признака технической ошибки выявлено не было"
   ]
  },
  {
   "cell_type": "markdown",
   "id": "ed21ce40",
   "metadata": {},
   "source": [
    "Рассмотрим распределение чеков пользователей по их величине"
   ]
  },
  {
   "cell_type": "code",
   "execution_count": 242,
   "id": "2fc30804",
   "metadata": {},
   "outputs": [
    {
     "name": "stderr",
     "output_type": "stream",
     "text": [
      "/opt/tljh/user/lib/python3.7/site-packages/seaborn/distributions.py:2557: FutureWarning: `distplot` is a deprecated function and will be removed in a future version. Please adapt your code to use either `displot` (a figure-level function with similar flexibility) or `histplot` (an axes-level function for histograms).\n",
      "  warnings.warn(msg, FutureWarning)\n"
     ]
    },
    {
     "data": {
      "text/plain": [
       "Text(0.5, 0, 'Плостность распределения величины чеков')"
      ]
     },
     "execution_count": 242,
     "metadata": {},
     "output_type": "execute_result"
    },
    {
     "data": {
      "image/png": "[encoded data removed]",
      "text/plain": [
       "<Figure size 720x432 with 1 Axes>"
      ]
     },
     "metadata": {
      "needs_background": "light"
     },
     "output_type": "display_data"
    }
   ],
   "source": [
    "plt.figure(figsize=(10,6))\n",
    "sns.distplot(df_checks.rev)\n",
    "plt.xlabel('Величина чека')\n",
    "plt.xlabel('Плостность распределения величины чеков')"
   ]
  },
  {
   "cell_type": "markdown",
   "id": "3cc12c61",
   "metadata": {},
   "source": [
    "По плотности распределения величины чеков видно, что чаще всего пользователи покупали на сумму от 200 у.е. до 700 у.е., а также 1900 у.е. "
   ]
  },
  {
   "cell_type": "code",
   "execution_count": 243,
   "id": "62455601",
   "metadata": {},
   "outputs": [
    {
     "data": {
      "text/plain": [
       "1900.0000    97\n",
       "290.0000     94\n",
       "690.0000     78\n",
       "199.0000     46\n",
       "990.0000     41\n",
       "1900.0001    36\n",
       "840.0000     27\n",
       "1140.0000    25\n",
       "580.0000     15\n",
       "590.0000     11\n",
       "Name: rev, dtype: int64"
      ]
     },
     "execution_count": 243,
     "metadata": {},
     "output_type": "execute_result"
    }
   ],
   "source": [
    "df_checks.rev.value_counts().head(10)"
   ]
  },
  {
   "cell_type": "code",
   "execution_count": 244,
   "id": "a2fa1dfa",
   "metadata": {},
   "outputs": [
    {
     "name": "stderr",
     "output_type": "stream",
     "text": [
      "/opt/tljh/user/lib/python3.7/site-packages/seaborn/_decorators.py:43: FutureWarning: Pass the following variable as a keyword arg: x. From version 0.12, the only valid positional argument will be `data`, and passing other arguments without an explicit keyword will result in an error or misinterpretation.\n",
      "  FutureWarning\n"
     ]
    },
    {
     "data": {
      "text/plain": [
       "Text(0.5, 0, 'Величина чека')"
      ]
     },
     "execution_count": 244,
     "metadata": {},
     "output_type": "execute_result"
    },
    {
     "data": {
      "image/png": "[encoded data removed]",
      "text/plain": [
       "<Figure size 576x432 with 1 Axes>"
      ]
     },
     "metadata": {
      "needs_background": "light"
     },
     "output_type": "display_data"
    }
   ],
   "source": [
    "plt.figure(figsize=(8,6))\n",
    "sns.boxplot(df_checks.rev)\n",
    "plt.xlabel('Величина чека')"
   ]
  },
  {
   "cell_type": "code",
   "execution_count": 245,
   "id": "b4baf4bd",
   "metadata": {},
   "outputs": [
    {
     "data": {
      "text/html": [
       "<div>\n",
       "<style scoped>\n",
       "    .dataframe tbody tr th:only-of-type {\n",
       "        vertical-align: middle;\n",
       "    }\n",
       "\n",
       "    .dataframe tbody tr th {\n",
       "        vertical-align: top;\n",
       "    }\n",
       "\n",
       "    .dataframe thead th {\n",
       "        text-align: right;\n",
       "    }\n",
       "</style>\n",
       "<table border=\"1\" class=\"dataframe\">\n",
       "  <thead>\n",
       "    <tr style=\"text-align: right;\">\n",
       "      <th></th>\n",
       "      <th>student_id</th>\n",
       "      <th>rev</th>\n",
       "    </tr>\n",
       "  </thead>\n",
       "  <tbody>\n",
       "    <tr>\n",
       "      <th>231</th>\n",
       "      <td>1711305</td>\n",
       "      <td>4650.0</td>\n",
       "    </tr>\n",
       "  </tbody>\n",
       "</table>\n",
       "</div>"
      ],
      "text/plain": [
       "     student_id     rev\n",
       "231     1711305  4650.0"
      ]
     },
     "execution_count": 245,
     "metadata": {},
     "output_type": "execute_result"
    }
   ],
   "source": [
    "df_checks[df_checks.rev>4000]"
   ]
  },
  {
   "cell_type": "markdown",
   "id": "cc91216d",
   "metadata": {},
   "source": [
    "Наблюдение с максимальной величиной чека в 4650 у.е. является выбросом"
   ]
  },
  {
   "cell_type": "markdown",
   "id": "fd6177d9",
   "metadata": {},
   "source": [
    "Проверим нет ли других аномалий в данных по чекам. Все пользователи, проводившие транзакции должны быть в датасете active_studs"
   ]
  },
  {
   "cell_type": "code",
   "execution_count": 246,
   "id": "fd7c05af",
   "metadata": {},
   "outputs": [
    {
     "data": {
      "text/plain": [
       "149"
      ]
     },
     "execution_count": 246,
     "metadata": {},
     "output_type": "execute_result"
    }
   ],
   "source": [
    "541-df_checks.student_id.isin(df_active_studs['student_id']).sum()"
   ]
  },
  {
   "cell_type": "markdown",
   "id": "393b1cdf",
   "metadata": {},
   "source": [
    "149 пользователей, совершивших покупки в дни проведения эксперимента, не отражены в датасете с активными действиями во время эксперимента: либо это техническая ошибка и данные пользователи должны быть включены в датасет с активными действиями, либо существует способ оплаты, при котором нет необходимости заходить на саму платформу: например, отсроченный платёж и т.п. Во 2 случае нецелесообразно рассматривать данных пользователей как учавствующих в эксперименте, если они не имели никакого влияния от внедрения новой системы оплаты"
   ]
  },
  {
   "cell_type": "markdown",
   "id": "abaea298",
   "metadata": {},
   "source": [
    "Допустим, технической ошибки не было. Тогда не будем рассматривать данных пользователей и уменьшим датасет с чеками на их количество."
   ]
  },
  {
   "cell_type": "code",
   "execution_count": 247,
   "id": "6a9ebbcd",
   "metadata": {},
   "outputs": [
    {
     "data": {
      "text/html": [
       "<div>\n",
       "<style scoped>\n",
       "    .dataframe tbody tr th:only-of-type {\n",
       "        vertical-align: middle;\n",
       "    }\n",
       "\n",
       "    .dataframe tbody tr th {\n",
       "        vertical-align: top;\n",
       "    }\n",
       "\n",
       "    .dataframe thead th {\n",
       "        text-align: right;\n",
       "    }\n",
       "</style>\n",
       "<table border=\"1\" class=\"dataframe\">\n",
       "  <thead>\n",
       "    <tr style=\"text-align: right;\">\n",
       "      <th></th>\n",
       "      <th>student_id</th>\n",
       "      <th>rev</th>\n",
       "    </tr>\n",
       "  </thead>\n",
       "  <tbody>\n",
       "    <tr>\n",
       "      <th>0</th>\n",
       "      <td>1627</td>\n",
       "      <td>990.0</td>\n",
       "    </tr>\n",
       "    <tr>\n",
       "      <th>1</th>\n",
       "      <td>3185</td>\n",
       "      <td>690.0</td>\n",
       "    </tr>\n",
       "    <tr>\n",
       "      <th>2</th>\n",
       "      <td>25973</td>\n",
       "      <td>690.0</td>\n",
       "    </tr>\n",
       "    <tr>\n",
       "      <th>3</th>\n",
       "      <td>26280</td>\n",
       "      <td>690.0</td>\n",
       "    </tr>\n",
       "    <tr>\n",
       "      <th>4</th>\n",
       "      <td>100300</td>\n",
       "      <td>990.0</td>\n",
       "    </tr>\n",
       "    <tr>\n",
       "      <th>...</th>\n",
       "      <td>...</td>\n",
       "      <td>...</td>\n",
       "    </tr>\n",
       "    <tr>\n",
       "      <th>536</th>\n",
       "      <td>5645737</td>\n",
       "      <td>1900.0</td>\n",
       "    </tr>\n",
       "    <tr>\n",
       "      <th>537</th>\n",
       "      <td>5651566</td>\n",
       "      <td>1900.0</td>\n",
       "    </tr>\n",
       "    <tr>\n",
       "      <th>538</th>\n",
       "      <td>5662322</td>\n",
       "      <td>1900.0</td>\n",
       "    </tr>\n",
       "    <tr>\n",
       "      <th>539</th>\n",
       "      <td>5681918</td>\n",
       "      <td>1900.0</td>\n",
       "    </tr>\n",
       "    <tr>\n",
       "      <th>540</th>\n",
       "      <td>5740903</td>\n",
       "      <td>1900.0</td>\n",
       "    </tr>\n",
       "  </tbody>\n",
       "</table>\n",
       "<p>541 rows × 2 columns</p>\n",
       "</div>"
      ],
      "text/plain": [
       "     student_id     rev\n",
       "0          1627   990.0\n",
       "1          3185   690.0\n",
       "2         25973   690.0\n",
       "3         26280   690.0\n",
       "4        100300   990.0\n",
       "..          ...     ...\n",
       "536     5645737  1900.0\n",
       "537     5651566  1900.0\n",
       "538     5662322  1900.0\n",
       "539     5681918  1900.0\n",
       "540     5740903  1900.0\n",
       "\n",
       "[541 rows x 2 columns]"
      ]
     },
     "execution_count": 247,
     "metadata": {},
     "output_type": "execute_result"
    }
   ],
   "source": [
    "df_checks"
   ]
  },
  {
   "cell_type": "code",
   "execution_count": 248,
   "id": "4605d9c4",
   "metadata": {},
   "outputs": [
    {
     "data": {
      "text/html": [
       "<div>\n",
       "<style scoped>\n",
       "    .dataframe tbody tr th:only-of-type {\n",
       "        vertical-align: middle;\n",
       "    }\n",
       "\n",
       "    .dataframe tbody tr th {\n",
       "        vertical-align: top;\n",
       "    }\n",
       "\n",
       "    .dataframe thead th {\n",
       "        text-align: right;\n",
       "    }\n",
       "</style>\n",
       "<table border=\"1\" class=\"dataframe\">\n",
       "  <thead>\n",
       "    <tr style=\"text-align: right;\">\n",
       "      <th></th>\n",
       "      <th>student_id</th>\n",
       "      <th>rev</th>\n",
       "    </tr>\n",
       "  </thead>\n",
       "  <tbody>\n",
       "    <tr>\n",
       "      <th>0</th>\n",
       "      <td>1627</td>\n",
       "      <td>990.0000</td>\n",
       "    </tr>\n",
       "    <tr>\n",
       "      <th>4</th>\n",
       "      <td>100300</td>\n",
       "      <td>990.0000</td>\n",
       "    </tr>\n",
       "    <tr>\n",
       "      <th>8</th>\n",
       "      <td>108270</td>\n",
       "      <td>290.0000</td>\n",
       "    </tr>\n",
       "    <tr>\n",
       "      <th>26</th>\n",
       "      <td>264473</td>\n",
       "      <td>1900.0001</td>\n",
       "    </tr>\n",
       "    <tr>\n",
       "      <th>27</th>\n",
       "      <td>274352</td>\n",
       "      <td>690.0000</td>\n",
       "    </tr>\n",
       "    <tr>\n",
       "      <th>...</th>\n",
       "      <td>...</td>\n",
       "      <td>...</td>\n",
       "    </tr>\n",
       "    <tr>\n",
       "      <th>536</th>\n",
       "      <td>5645737</td>\n",
       "      <td>1900.0000</td>\n",
       "    </tr>\n",
       "    <tr>\n",
       "      <th>537</th>\n",
       "      <td>5651566</td>\n",
       "      <td>1900.0000</td>\n",
       "    </tr>\n",
       "    <tr>\n",
       "      <th>538</th>\n",
       "      <td>5662322</td>\n",
       "      <td>1900.0000</td>\n",
       "    </tr>\n",
       "    <tr>\n",
       "      <th>539</th>\n",
       "      <td>5681918</td>\n",
       "      <td>1900.0000</td>\n",
       "    </tr>\n",
       "    <tr>\n",
       "      <th>540</th>\n",
       "      <td>5740903</td>\n",
       "      <td>1900.0000</td>\n",
       "    </tr>\n",
       "  </tbody>\n",
       "</table>\n",
       "<p>392 rows × 2 columns</p>\n",
       "</div>"
      ],
      "text/plain": [
       "     student_id        rev\n",
       "0          1627   990.0000\n",
       "4        100300   990.0000\n",
       "8        108270   290.0000\n",
       "26       264473  1900.0001\n",
       "27       274352   690.0000\n",
       "..          ...        ...\n",
       "536     5645737  1900.0000\n",
       "537     5651566  1900.0000\n",
       "538     5662322  1900.0000\n",
       "539     5681918  1900.0000\n",
       "540     5740903  1900.0000\n",
       "\n",
       "[392 rows x 2 columns]"
      ]
     },
     "execution_count": 248,
     "metadata": {},
     "output_type": "execute_result"
    }
   ],
   "source": [
    "df_checks_only_active=df_checks.query('student_id.isin(@df_active_studs.student_id)')\n",
    "df_checks_only_active"
   ]
  },
  {
   "cell_type": "markdown",
   "id": "180930d4",
   "metadata": {},
   "source": [
    "Соединим новый датасет с пользователями, которые совершили покупку с оплатой в течение дней, когда велось наблюдение, с датасетом, содержащим информацию о их принадлежности к контрольной группе A или целевой группе B"
   ]
  },
  {
   "cell_type": "code",
   "execution_count": 249,
   "id": "df6bf069",
   "metadata": {},
   "outputs": [
    {
     "data": {
      "text/html": [
       "<div>\n",
       "<style scoped>\n",
       "    .dataframe tbody tr th:only-of-type {\n",
       "        vertical-align: middle;\n",
       "    }\n",
       "\n",
       "    .dataframe tbody tr th {\n",
       "        vertical-align: top;\n",
       "    }\n",
       "\n",
       "    .dataframe thead th {\n",
       "        text-align: right;\n",
       "    }\n",
       "</style>\n",
       "<table border=\"1\" class=\"dataframe\">\n",
       "  <thead>\n",
       "    <tr style=\"text-align: right;\">\n",
       "      <th></th>\n",
       "      <th>student_id</th>\n",
       "      <th>grp</th>\n",
       "    </tr>\n",
       "  </thead>\n",
       "  <tbody>\n",
       "    <tr>\n",
       "      <th>0</th>\n",
       "      <td>1489</td>\n",
       "      <td>B</td>\n",
       "    </tr>\n",
       "    <tr>\n",
       "      <th>1</th>\n",
       "      <td>1627</td>\n",
       "      <td>A</td>\n",
       "    </tr>\n",
       "    <tr>\n",
       "      <th>2</th>\n",
       "      <td>1768</td>\n",
       "      <td>B</td>\n",
       "    </tr>\n",
       "    <tr>\n",
       "      <th>3</th>\n",
       "      <td>1783</td>\n",
       "      <td>B</td>\n",
       "    </tr>\n",
       "    <tr>\n",
       "      <th>4</th>\n",
       "      <td>1794</td>\n",
       "      <td>A</td>\n",
       "    </tr>\n",
       "    <tr>\n",
       "      <th>...</th>\n",
       "      <td>...</td>\n",
       "      <td>...</td>\n",
       "    </tr>\n",
       "    <tr>\n",
       "      <th>74571</th>\n",
       "      <td>200247820</td>\n",
       "      <td>B</td>\n",
       "    </tr>\n",
       "    <tr>\n",
       "      <th>74572</th>\n",
       "      <td>201032527</td>\n",
       "      <td>B</td>\n",
       "    </tr>\n",
       "    <tr>\n",
       "      <th>74573</th>\n",
       "      <td>201067612</td>\n",
       "      <td>B</td>\n",
       "    </tr>\n",
       "    <tr>\n",
       "      <th>74574</th>\n",
       "      <td>201067653</td>\n",
       "      <td>B</td>\n",
       "    </tr>\n",
       "    <tr>\n",
       "      <th>74575</th>\n",
       "      <td>201067659</td>\n",
       "      <td>B</td>\n",
       "    </tr>\n",
       "  </tbody>\n",
       "</table>\n",
       "<p>74576 rows × 2 columns</p>\n",
       "</div>"
      ],
      "text/plain": [
       "       student_id grp\n",
       "0            1489   B\n",
       "1            1627   A\n",
       "2            1768   B\n",
       "3            1783   B\n",
       "4            1794   A\n",
       "...           ...  ..\n",
       "74571   200247820   B\n",
       "74572   201032527   B\n",
       "74573   201067612   B\n",
       "74574   201067653   B\n",
       "74575   201067659   B\n",
       "\n",
       "[74576 rows x 2 columns]"
      ]
     },
     "execution_count": 249,
     "metadata": {},
     "output_type": "execute_result"
    }
   ],
   "source": [
    "df_groups_all.rename(columns={'id':'student_id'}, inplace=True)\n",
    "df_groups_all"
   ]
  },
  {
   "cell_type": "code",
   "execution_count": 250,
   "id": "53bdcbec",
   "metadata": {},
   "outputs": [
    {
     "data": {
      "text/html": [
       "<div>\n",
       "<style scoped>\n",
       "    .dataframe tbody tr th:only-of-type {\n",
       "        vertical-align: middle;\n",
       "    }\n",
       "\n",
       "    .dataframe tbody tr th {\n",
       "        vertical-align: top;\n",
       "    }\n",
       "\n",
       "    .dataframe thead th {\n",
       "        text-align: right;\n",
       "    }\n",
       "</style>\n",
       "<table border=\"1\" class=\"dataframe\">\n",
       "  <thead>\n",
       "    <tr style=\"text-align: right;\">\n",
       "      <th></th>\n",
       "      <th>student_id</th>\n",
       "      <th>rev</th>\n",
       "      <th>grp</th>\n",
       "    </tr>\n",
       "  </thead>\n",
       "  <tbody>\n",
       "    <tr>\n",
       "      <th>0</th>\n",
       "      <td>1627</td>\n",
       "      <td>990.0000</td>\n",
       "      <td>A</td>\n",
       "    </tr>\n",
       "    <tr>\n",
       "      <th>4</th>\n",
       "      <td>100300</td>\n",
       "      <td>990.0000</td>\n",
       "      <td>B</td>\n",
       "    </tr>\n",
       "    <tr>\n",
       "      <th>8</th>\n",
       "      <td>108270</td>\n",
       "      <td>290.0000</td>\n",
       "      <td>B</td>\n",
       "    </tr>\n",
       "    <tr>\n",
       "      <th>26</th>\n",
       "      <td>264473</td>\n",
       "      <td>1900.0001</td>\n",
       "      <td>B</td>\n",
       "    </tr>\n",
       "    <tr>\n",
       "      <th>27</th>\n",
       "      <td>274352</td>\n",
       "      <td>690.0000</td>\n",
       "      <td>B</td>\n",
       "    </tr>\n",
       "    <tr>\n",
       "      <th>...</th>\n",
       "      <td>...</td>\n",
       "      <td>...</td>\n",
       "      <td>...</td>\n",
       "    </tr>\n",
       "    <tr>\n",
       "      <th>536</th>\n",
       "      <td>5645737</td>\n",
       "      <td>1900.0000</td>\n",
       "      <td>B</td>\n",
       "    </tr>\n",
       "    <tr>\n",
       "      <th>537</th>\n",
       "      <td>5651566</td>\n",
       "      <td>1900.0000</td>\n",
       "      <td>B</td>\n",
       "    </tr>\n",
       "    <tr>\n",
       "      <th>538</th>\n",
       "      <td>5662322</td>\n",
       "      <td>1900.0000</td>\n",
       "      <td>B</td>\n",
       "    </tr>\n",
       "    <tr>\n",
       "      <th>539</th>\n",
       "      <td>5681918</td>\n",
       "      <td>1900.0000</td>\n",
       "      <td>B</td>\n",
       "    </tr>\n",
       "    <tr>\n",
       "      <th>540</th>\n",
       "      <td>5740903</td>\n",
       "      <td>1900.0000</td>\n",
       "      <td>B</td>\n",
       "    </tr>\n",
       "  </tbody>\n",
       "</table>\n",
       "<p>392 rows × 3 columns</p>\n",
       "</div>"
      ],
      "text/plain": [
       "     student_id        rev grp\n",
       "0          1627   990.0000   A\n",
       "4        100300   990.0000   B\n",
       "8        108270   290.0000   B\n",
       "26       264473  1900.0001   B\n",
       "27       274352   690.0000   B\n",
       "..          ...        ...  ..\n",
       "536     5645737  1900.0000   B\n",
       "537     5651566  1900.0000   B\n",
       "538     5662322  1900.0000   B\n",
       "539     5681918  1900.0000   B\n",
       "540     5740903  1900.0000   B\n",
       "\n",
       "[392 rows x 3 columns]"
      ]
     },
     "execution_count": 250,
     "metadata": {},
     "output_type": "execute_result"
    }
   ],
   "source": [
    "ids_and_checks=df_checks_only_active.merge(df_groups_all, how='inner', on='student_id', right_index=True)\n",
    "ids_and_checks"
   ]
  },
  {
   "cell_type": "markdown",
   "id": "6f15ba97",
   "metadata": {},
   "source": [
    "## Определение необходимых метрик"
   ]
  },
  {
   "cell_type": "markdown",
   "id": "ff65f8ac",
   "metadata": {},
   "source": [
    "### 1) Количество покупок в контрольной группе A и целевой группе B"
   ]
  },
  {
   "cell_type": "code",
   "execution_count": 251,
   "id": "537bf803",
   "metadata": {},
   "outputs": [
    {
     "data": {
      "text/html": [
       "<div>\n",
       "<style scoped>\n",
       "    .dataframe tbody tr th:only-of-type {\n",
       "        vertical-align: middle;\n",
       "    }\n",
       "\n",
       "    .dataframe tbody tr th {\n",
       "        vertical-align: top;\n",
       "    }\n",
       "\n",
       "    .dataframe thead th {\n",
       "        text-align: right;\n",
       "    }\n",
       "</style>\n",
       "<table border=\"1\" class=\"dataframe\">\n",
       "  <thead>\n",
       "    <tr style=\"text-align: right;\">\n",
       "      <th></th>\n",
       "      <th>Количество уникальных пользователей в группе</th>\n",
       "    </tr>\n",
       "    <tr>\n",
       "      <th>grp</th>\n",
       "      <th></th>\n",
       "    </tr>\n",
       "  </thead>\n",
       "  <tbody>\n",
       "    <tr>\n",
       "      <th>A</th>\n",
       "      <td>78</td>\n",
       "    </tr>\n",
       "    <tr>\n",
       "      <th>B</th>\n",
       "      <td>314</td>\n",
       "    </tr>\n",
       "  </tbody>\n",
       "</table>\n",
       "</div>"
      ],
      "text/plain": [
       "     Количество уникальных пользователей в группе\n",
       "grp                                              \n",
       "A                                              78\n",
       "B                                             314"
      ]
     },
     "execution_count": 251,
     "metadata": {},
     "output_type": "execute_result"
    }
   ],
   "source": [
    "ids_and_checks.groupby('grp').agg({'student_id':'count'}).rename(columns={'student_id':'Количество уникальных пользователей в группе'})"
   ]
  },
  {
   "cell_type": "markdown",
   "id": "224c6ccd",
   "metadata": {},
   "source": [
    "### 2) Средний чек пользователей в контрольной группе A и целевой группе B - ARPPU"
   ]
  },
  {
   "cell_type": "code",
   "execution_count": 252,
   "id": "d29e703f",
   "metadata": {},
   "outputs": [
    {
     "data": {
      "text/html": [
       "<div>\n",
       "<style scoped>\n",
       "    .dataframe tbody tr th:only-of-type {\n",
       "        vertical-align: middle;\n",
       "    }\n",
       "\n",
       "    .dataframe tbody tr th {\n",
       "        vertical-align: top;\n",
       "    }\n",
       "\n",
       "    .dataframe thead th {\n",
       "        text-align: right;\n",
       "    }\n",
       "</style>\n",
       "<table border=\"1\" class=\"dataframe\">\n",
       "  <thead>\n",
       "    <tr style=\"text-align: right;\">\n",
       "      <th></th>\n",
       "      <th>Средний чек пользователей, у.е.</th>\n",
       "    </tr>\n",
       "    <tr>\n",
       "      <th>grp</th>\n",
       "      <th></th>\n",
       "    </tr>\n",
       "  </thead>\n",
       "  <tbody>\n",
       "    <tr>\n",
       "      <th>A</th>\n",
       "      <td>933.59</td>\n",
       "    </tr>\n",
       "    <tr>\n",
       "      <th>B</th>\n",
       "      <td>1257.88</td>\n",
       "    </tr>\n",
       "  </tbody>\n",
       "</table>\n",
       "</div>"
      ],
      "text/plain": [
       "     Средний чек пользователей, у.е.\n",
       "grp                                 \n",
       "A                             933.59\n",
       "B                            1257.88"
      ]
     },
     "execution_count": 252,
     "metadata": {},
     "output_type": "execute_result"
    }
   ],
   "source": [
    "round(ids_and_checks.groupby('grp').agg({'rev':'mean'}).rename(columns={'rev':'Средний чек пользователей, у.е.'}),2)"
   ]
  },
  {
   "cell_type": "markdown",
   "id": "c30a0c13",
   "metadata": {},
   "source": [
    "На первый вгляд, наблюдаются различия в среднем чеке у пользователей. Далее выясним, насколько достоверными они являются с помощью статистических тестов. "
   ]
  },
  {
   "cell_type": "code",
   "execution_count": 253,
   "id": "2efe272b",
   "metadata": {},
   "outputs": [
    {
     "name": "stderr",
     "output_type": "stream",
     "text": [
      "/opt/tljh/user/lib/python3.7/site-packages/seaborn/distributions.py:2557: FutureWarning: `distplot` is a deprecated function and will be removed in a future version. Please adapt your code to use either `displot` (a figure-level function with similar flexibility) or `histplot` (an axes-level function for histograms).\n",
      "  warnings.warn(msg, FutureWarning)\n"
     ]
    },
    {
     "data": {
      "text/plain": [
       "Text(0.5, 0, 'Плостность распределения величины чеков')"
      ]
     },
     "execution_count": 253,
     "metadata": {},
     "output_type": "execute_result"
    },
    {
     "data": {
      "image/png": "[encoded data removed]",
      "text/plain": [
       "<Figure size 720x432 with 1 Axes>"
      ]
     },
     "metadata": {
      "needs_background": "light"
     },
     "output_type": "display_data"
    }
   ],
   "source": [
    "plt.figure(figsize=(10,6))\n",
    "sns.distplot(ids_and_checks.rev)\n",
    "plt.xlabel('Величина чека')\n",
    "plt.xlabel('Плостность распределения величины чеков')"
   ]
  },
  {
   "cell_type": "markdown",
   "id": "5ebe9ebf",
   "metadata": {},
   "source": [
    "Как и ранее, наблюдаем распределение величины чека пользователей отличное от нормального\n",
    "Можем использовать t-тест, но только при условии гомогенности условий и большого размера выборки (условие выполнено)"
   ]
  },
  {
   "cell_type": "markdown",
   "id": "de101cce",
   "metadata": {},
   "source": [
    "Т.к. данные ненормально распределены, то для проверки дисперсии на гомогенность вместо теста Бартлетта (чувствителен к выбросам) критерий Левена"
   ]
  },
  {
   "cell_type": "code",
   "execution_count": 254,
   "id": "779a89cf",
   "metadata": {},
   "outputs": [
    {
     "name": "stdout",
     "output_type": "stream",
     "text": [
      "p-value: 0.0803\n",
      "Дисперсии однородны (не отвергаем нулевую гипотезу)\n"
     ]
    }
   ],
   "source": [
    "#H0: Дисперсии однородны\n",
    "from scipy.stats import levene\n",
    "statistic, p_value = levene(ids_and_checks.query('grp==\"A\"').rev, ids_and_checks.query('grp==\"B\"').rev)\n",
    "print(\"p-value:\",round(p_value,4))\n",
    "if p_value > 0.05:\n",
    "    print(\"Дисперсии однородны (не отвергаем нулевую гипотезу)\")\n",
    "else:\n",
    "    print(\"Дисперсии неоднородны (отвергаем нулевую гипотезу)\")"
   ]
  },
  {
   "cell_type": "code",
   "execution_count": 255,
   "id": "f690768d",
   "metadata": {},
   "outputs": [
    {
     "name": "stdout",
     "output_type": "stream",
     "text": [
      "p-value: 0.0019\n",
      "Есть статистически значимые различия (отвергаем нулевую гипотезу)\n"
     ]
    }
   ],
   "source": [
    "#H0: Средняя величина чека в контрольной и целевой группе равна\n",
    "from scipy.stats import ttest_ind\n",
    "statistic, p_value = ttest_ind(ids_and_checks.query('grp==\"A\"').rev, ids_and_checks.query('grp==\"B\"').rev)\n",
    "print(\"p-value:\", round(p_value,4))\n",
    "\n",
    "if p_value > 0.05:\n",
    "    print(\"Нет статистически значимых различий (не отвергаем нулевую гипотезу)\")\n",
    "else:\n",
    "    print(\"Есть статистически значимые различия (отвергаем нулевую гипотезу)\")"
   ]
  },
  {
   "cell_type": "markdown",
   "id": "a526be36",
   "metadata": {},
   "source": [
    "### Таким образом, различия в величине среднего чека в целевой и контрольной группе являются значимыми при уровне значимости 5% => Средний чек у пользователей в целевой группе, на которых тестировался новый функционал оплаты, выше среднего чека у пользователей контрольной группы на 324 у.е."
   ]
  },
  {
   "cell_type": "markdown",
   "id": "802dc427",
   "metadata": {},
   "source": [
    "### 3) Средний чек активных пользователей в целевой и контрольной группе - ARPAU"
   ]
  },
  {
   "cell_type": "code",
   "execution_count": 256,
   "id": "e05c064a",
   "metadata": {},
   "outputs": [
    {
     "data": {
      "text/html": [
       "<div>\n",
       "<style scoped>\n",
       "    .dataframe tbody tr th:only-of-type {\n",
       "        vertical-align: middle;\n",
       "    }\n",
       "\n",
       "    .dataframe tbody tr th {\n",
       "        vertical-align: top;\n",
       "    }\n",
       "\n",
       "    .dataframe thead th {\n",
       "        text-align: right;\n",
       "    }\n",
       "</style>\n",
       "<table border=\"1\" class=\"dataframe\">\n",
       "  <thead>\n",
       "    <tr style=\"text-align: right;\">\n",
       "      <th></th>\n",
       "      <th>Количество уникальных активных пользователей в группе</th>\n",
       "    </tr>\n",
       "    <tr>\n",
       "      <th>grp</th>\n",
       "      <th></th>\n",
       "    </tr>\n",
       "  </thead>\n",
       "  <tbody>\n",
       "    <tr>\n",
       "      <th>A</th>\n",
       "      <td>1538</td>\n",
       "    </tr>\n",
       "    <tr>\n",
       "      <th>B</th>\n",
       "      <td>6803</td>\n",
       "    </tr>\n",
       "  </tbody>\n",
       "</table>\n",
       "</div>"
      ],
      "text/plain": [
       "     Количество уникальных активных пользователей в группе\n",
       "grp                                                       \n",
       "A                                                 1538    \n",
       "B                                                 6803    "
      ]
     },
     "execution_count": 256,
     "metadata": {},
     "output_type": "execute_result"
    }
   ],
   "source": [
    "active_users_with_labels_and_check=df_active_studs.merge(df_checks, on  = 'student_id', how = 'left').merge(df_groups_all, on = 'student_id', how = 'inner')\n",
    "active_users_with_labels_and_check.groupby('grp').agg({'student_id':'count'}).rename(columns={'student_id':'Количество уникальных активных пользователей в группе'})"
   ]
  },
  {
   "cell_type": "markdown",
   "id": "65cf25a3",
   "metadata": {},
   "source": [
    "### Ввиду того, что увеличился чек платящих пользователей в целевой группе, увеличился и чек активных пользователей в целевой группе, но в меньшей степени (на 11 у.е.) за счёт многочисленности активных, но непокупающих пользователей в целевой группе"
   ]
  },
  {
   "cell_type": "code",
   "execution_count": 257,
   "id": "1ba99119",
   "metadata": {},
   "outputs": [
    {
     "data": {
      "text/html": [
       "<div>\n",
       "<style scoped>\n",
       "    .dataframe tbody tr th:only-of-type {\n",
       "        vertical-align: middle;\n",
       "    }\n",
       "\n",
       "    .dataframe tbody tr th {\n",
       "        vertical-align: top;\n",
       "    }\n",
       "\n",
       "    .dataframe thead th {\n",
       "        text-align: right;\n",
       "    }\n",
       "</style>\n",
       "<table border=\"1\" class=\"dataframe\">\n",
       "  <thead>\n",
       "    <tr style=\"text-align: right;\">\n",
       "      <th></th>\n",
       "      <th>Средний чек активных пользователей, у.е.</th>\n",
       "    </tr>\n",
       "    <tr>\n",
       "      <th>grp</th>\n",
       "      <th></th>\n",
       "    </tr>\n",
       "  </thead>\n",
       "  <tbody>\n",
       "    <tr>\n",
       "      <th>A</th>\n",
       "      <td>47.347</td>\n",
       "    </tr>\n",
       "    <tr>\n",
       "      <th>B</th>\n",
       "      <td>58.059</td>\n",
       "    </tr>\n",
       "  </tbody>\n",
       "</table>\n",
       "</div>"
      ],
      "text/plain": [
       "     Средний чек активных пользователей, у.е.\n",
       "grp                                          \n",
       "A                                      47.347\n",
       "B                                      58.059"
      ]
     },
     "execution_count": 257,
     "metadata": {},
     "output_type": "execute_result"
    }
   ],
   "source": [
    "active_users_with_labels_and_check=df_active_studs.merge(df_checks, on  = 'student_id', how = 'left').merge(df_groups_all, on = 'student_id', how = 'inner')\n",
    "round((active_users_with_labels_and_check.groupby('grp').agg({'rev':'sum'})\\\n",
    "         .rename(columns={'rev':'student_id'})/active_users_with_labels_and_check.groupby('grp')\\\n",
    "         .agg({'student_id':'count'})).rename(columns={'student_id':'Средний чек активных пользователей, у.е.'}),3)"
   ]
  },
  {
   "cell_type": "markdown",
   "id": "01427ff7",
   "metadata": {},
   "source": [
    "### 4) Конверсия в покупку (активного пользователя)"
   ]
  },
  {
   "cell_type": "markdown",
   "id": "92d140a9",
   "metadata": {},
   "source": [
    "Создадим признак is_purchase, чтобы было удобней понять, кто из активных пользователей совершил покупку, а кто нет"
   ]
  },
  {
   "cell_type": "code",
   "execution_count": 258,
   "id": "82b08700",
   "metadata": {},
   "outputs": [
    {
     "data": {
      "text/html": [
       "<div>\n",
       "<style scoped>\n",
       "    .dataframe tbody tr th:only-of-type {\n",
       "        vertical-align: middle;\n",
       "    }\n",
       "\n",
       "    .dataframe tbody tr th {\n",
       "        vertical-align: top;\n",
       "    }\n",
       "\n",
       "    .dataframe thead th {\n",
       "        text-align: right;\n",
       "    }\n",
       "</style>\n",
       "<table border=\"1\" class=\"dataframe\">\n",
       "  <thead>\n",
       "    <tr style=\"text-align: right;\">\n",
       "      <th></th>\n",
       "      <th>student_id</th>\n",
       "      <th>rev</th>\n",
       "      <th>grp</th>\n",
       "      <th>is_purchase</th>\n",
       "    </tr>\n",
       "  </thead>\n",
       "  <tbody>\n",
       "    <tr>\n",
       "      <th>0</th>\n",
       "      <td>581585</td>\n",
       "      <td>NaN</td>\n",
       "      <td>A</td>\n",
       "      <td>0</td>\n",
       "    </tr>\n",
       "    <tr>\n",
       "      <th>1</th>\n",
       "      <td>5723133</td>\n",
       "      <td>NaN</td>\n",
       "      <td>A</td>\n",
       "      <td>0</td>\n",
       "    </tr>\n",
       "    <tr>\n",
       "      <th>2</th>\n",
       "      <td>3276743</td>\n",
       "      <td>NaN</td>\n",
       "      <td>B</td>\n",
       "      <td>0</td>\n",
       "    </tr>\n",
       "    <tr>\n",
       "      <th>3</th>\n",
       "      <td>4238589</td>\n",
       "      <td>NaN</td>\n",
       "      <td>A</td>\n",
       "      <td>0</td>\n",
       "    </tr>\n",
       "    <tr>\n",
       "      <th>4</th>\n",
       "      <td>4475369</td>\n",
       "      <td>NaN</td>\n",
       "      <td>B</td>\n",
       "      <td>0</td>\n",
       "    </tr>\n",
       "    <tr>\n",
       "      <th>...</th>\n",
       "      <td>...</td>\n",
       "      <td>...</td>\n",
       "      <td>...</td>\n",
       "      <td>...</td>\n",
       "    </tr>\n",
       "    <tr>\n",
       "      <th>8336</th>\n",
       "      <td>1794344</td>\n",
       "      <td>NaN</td>\n",
       "      <td>B</td>\n",
       "      <td>0</td>\n",
       "    </tr>\n",
       "    <tr>\n",
       "      <th>8337</th>\n",
       "      <td>296883</td>\n",
       "      <td>NaN</td>\n",
       "      <td>B</td>\n",
       "      <td>0</td>\n",
       "    </tr>\n",
       "    <tr>\n",
       "      <th>8338</th>\n",
       "      <td>3598448</td>\n",
       "      <td>NaN</td>\n",
       "      <td>B</td>\n",
       "      <td>0</td>\n",
       "    </tr>\n",
       "    <tr>\n",
       "      <th>8339</th>\n",
       "      <td>3610547</td>\n",
       "      <td>290.0</td>\n",
       "      <td>B</td>\n",
       "      <td>1</td>\n",
       "    </tr>\n",
       "    <tr>\n",
       "      <th>8340</th>\n",
       "      <td>205705</td>\n",
       "      <td>NaN</td>\n",
       "      <td>B</td>\n",
       "      <td>0</td>\n",
       "    </tr>\n",
       "  </tbody>\n",
       "</table>\n",
       "<p>8341 rows × 4 columns</p>\n",
       "</div>"
      ],
      "text/plain": [
       "      student_id    rev grp  is_purchase\n",
       "0         581585    NaN   A            0\n",
       "1        5723133    NaN   A            0\n",
       "2        3276743    NaN   B            0\n",
       "3        4238589    NaN   A            0\n",
       "4        4475369    NaN   B            0\n",
       "...          ...    ...  ..          ...\n",
       "8336     1794344    NaN   B            0\n",
       "8337      296883    NaN   B            0\n",
       "8338     3598448    NaN   B            0\n",
       "8339     3610547  290.0   B            1\n",
       "8340      205705    NaN   B            0\n",
       "\n",
       "[8341 rows x 4 columns]"
      ]
     },
     "execution_count": 258,
     "metadata": {},
     "output_type": "execute_result"
    }
   ],
   "source": [
    "active_users_with_labels_and_check['is_purchase'] = active_users_with_labels_and_check.rev.apply(lambda x: 0 if pd.isna(x) else 1)\n",
    "active_users_with_labels_and_check"
   ]
  },
  {
   "cell_type": "code",
   "execution_count": 259,
   "id": "58bcc33e",
   "metadata": {},
   "outputs": [
    {
     "data": {
      "text/html": [
       "<div>\n",
       "<style scoped>\n",
       "    .dataframe tbody tr th:only-of-type {\n",
       "        vertical-align: middle;\n",
       "    }\n",
       "\n",
       "    .dataframe tbody tr th {\n",
       "        vertical-align: top;\n",
       "    }\n",
       "\n",
       "    .dataframe thead th {\n",
       "        text-align: right;\n",
       "    }\n",
       "</style>\n",
       "<table border=\"1\" class=\"dataframe\">\n",
       "  <thead>\n",
       "    <tr style=\"text-align: right;\">\n",
       "      <th>grp</th>\n",
       "      <th>A</th>\n",
       "      <th>B</th>\n",
       "    </tr>\n",
       "    <tr>\n",
       "      <th>is_purchase</th>\n",
       "      <th></th>\n",
       "      <th></th>\n",
       "    </tr>\n",
       "  </thead>\n",
       "  <tbody>\n",
       "    <tr>\n",
       "      <th>0</th>\n",
       "      <td>1460</td>\n",
       "      <td>6489</td>\n",
       "    </tr>\n",
       "    <tr>\n",
       "      <th>1</th>\n",
       "      <td>78</td>\n",
       "      <td>314</td>\n",
       "    </tr>\n",
       "  </tbody>\n",
       "</table>\n",
       "</div>"
      ],
      "text/plain": [
       "grp             A     B\n",
       "is_purchase            \n",
       "0            1460  6489\n",
       "1              78   314"
      ]
     },
     "execution_count": 259,
     "metadata": {},
     "output_type": "execute_result"
    }
   ],
   "source": [
    "conversion=active_users_with_labels_and_check.pivot_table(index = 'is_purchase', columns = 'grp', values = 'student_id', aggfunc = 'count')\n",
    "conversion"
   ]
  },
  {
   "cell_type": "code",
   "execution_count": 260,
   "id": "60a45773",
   "metadata": {},
   "outputs": [],
   "source": [
    "conversion.loc['sum']=conversion.iloc[0]+conversion.iloc[1]"
   ]
  },
  {
   "cell_type": "code",
   "execution_count": 261,
   "id": "924f930a",
   "metadata": {},
   "outputs": [],
   "source": [
    "convertion_in_A=round((conversion.iloc[1,0]/conversion.iloc[2,0])*100,3)\n",
    "convertion_in_B=round((conversion.iloc[1,1]/conversion.iloc[2,1])*100,3)"
   ]
  },
  {
   "cell_type": "code",
   "execution_count": 262,
   "id": "1453be56",
   "metadata": {},
   "outputs": [
    {
     "name": "stdout",
     "output_type": "stream",
     "text": [
      "Конверсия контрольной группы: 5.072\n",
      "Конверсия целевой группы: 4.616\n"
     ]
    }
   ],
   "source": [
    "print(f'Конверсия контрольной группы: { convertion_in_A}')\n",
    "print(f'Конверсия целевой группы: { convertion_in_B}')"
   ]
  },
  {
   "cell_type": "markdown",
   "id": "ea191e4e",
   "metadata": {},
   "source": [
    "Конверсия в покупку в целевой группе несколько ниже, чем в контрольной"
   ]
  },
  {
   "cell_type": "code",
   "execution_count": 263,
   "id": "c75936b6",
   "metadata": {},
   "outputs": [
    {
     "data": {
      "text/html": [
       "<div>\n",
       "<style scoped>\n",
       "    .dataframe tbody tr th:only-of-type {\n",
       "        vertical-align: middle;\n",
       "    }\n",
       "\n",
       "    .dataframe tbody tr th {\n",
       "        vertical-align: top;\n",
       "    }\n",
       "\n",
       "    .dataframe thead th {\n",
       "        text-align: right;\n",
       "    }\n",
       "</style>\n",
       "<table border=\"1\" class=\"dataframe\">\n",
       "  <thead>\n",
       "    <tr style=\"text-align: right;\">\n",
       "      <th>grp</th>\n",
       "      <th>A</th>\n",
       "      <th>B</th>\n",
       "    </tr>\n",
       "    <tr>\n",
       "      <th>is_purchase</th>\n",
       "      <th></th>\n",
       "      <th></th>\n",
       "    </tr>\n",
       "  </thead>\n",
       "  <tbody>\n",
       "    <tr>\n",
       "      <th>0</th>\n",
       "      <td>1460</td>\n",
       "      <td>6489</td>\n",
       "    </tr>\n",
       "    <tr>\n",
       "      <th>1</th>\n",
       "      <td>78</td>\n",
       "      <td>314</td>\n",
       "    </tr>\n",
       "  </tbody>\n",
       "</table>\n",
       "</div>"
      ],
      "text/plain": [
       "grp             A     B\n",
       "is_purchase            \n",
       "0            1460  6489\n",
       "1              78   314"
      ]
     },
     "execution_count": 263,
     "metadata": {},
     "output_type": "execute_result"
    }
   ],
   "source": [
    "conversion.iloc[:2]"
   ]
  },
  {
   "cell_type": "markdown",
   "id": "7b464b03",
   "metadata": {},
   "source": [
    "Для проверки того является ли разница в конверсиях у контрольной и целевой групп значимой используем тест хи-квадрат"
   ]
  },
  {
   "cell_type": "markdown",
   "id": "fc695c8c",
   "metadata": {},
   "source": [
    "H0: категориальные переменные независимы - в нашем случае факт покупки и принадлежность к определенной группе во время эксперимента"
   ]
  },
  {
   "cell_type": "code",
   "execution_count": 264,
   "id": "46574aa1",
   "metadata": {},
   "outputs": [
    {
     "name": "stdout",
     "output_type": "stream",
     "text": [
      "P-value: 0.486\n",
      "Факт покупки и принадлежность к определенной группе во время эксперимента являются независимыми признаками (не отвергаем нулевую гипотезу)\n"
     ]
    }
   ],
   "source": [
    "import scipy.stats as stats\n",
    "chi2, p, dof, expected = stats.chi2_contingency(conversion.iloc[:2])\n",
    "\n",
    "print(f'P-value: {round(p,3)}')\n",
    "\n",
    "if p > 0.05:\n",
    "    print(\"Факт покупки и принадлежность к определенной группе во время эксперимента являются независимыми признаками (не отвергаем нулевую гипотезу)\")\n",
    "else:\n",
    "    print(\"Факт покупки и принадлежность к определенной группе во время эксперимента не являются независимыми признаками (отвергаем нулевую гипотезу)\")"
   ]
  },
  {
   "cell_type": "markdown",
   "id": "3725fb68",
   "metadata": {},
   "source": [
    "### Статистически значимые различия в уровне конверсии в покупку в рассматриваемых группах не выявлены => новый механизм оплаты не имел влияния на эту метрику"
   ]
  },
  {
   "cell_type": "markdown",
   "id": "440040de",
   "metadata": {},
   "source": [
    "# Итог по 1 заданию: \n",
    "- В рамках анализа данной ситуации необходимо обратить внимание на такие метрики как : ARPPU, ARPAU, Конверсия в покупку\n",
    "- В ходе исследования введенных изменений, касающихся системы оплаты было выяснено, что средний чек на платящего пользователя в целевой группе на 324 у.е. выше, чем в контрольной. Данные различия оказались статистически значимыми. Выручка на активного пользователя в целевой группе также выше, но лишь на 11 долл. Изменений в уровне конверсии активных пользователей в покупку в разрезе рассматриваемых групп после внедрения нового функционала выявлено не было: конверсия осталось равна приблизительно 5%.\n",
    "- В результате анализа данных метрик, можно сделать вывод о необходимости внедрения новой системы оплаты"
   ]
  },
  {
   "cell_type": "markdown",
   "id": "2c456a1f",
   "metadata": {},
   "source": [
    "# Задание 2 "
   ]
  },
  {
   "cell_type": "markdown",
   "id": "33f5057e",
   "metadata": {},
   "source": [
    "## 2.1"
   ]
  },
  {
   "cell_type": "markdown",
   "id": "4a02dc67",
   "metadata": {},
   "source": [
    "Назовём очень усердным учеником того пользователя, который хотя бы раз за текущий месяц правильно решил 20 горошин. Необходимо написать **оптимальный** запрос, который даст информацию о количестве очень усердных студентов."
   ]
  },
  {
   "cell_type": "code",
   "execution_count": 265,
   "id": "5bcd1399",
   "metadata": {},
   "outputs": [],
   "source": [
    "import pandahouse as ph\n",
    "\n",
    "connection_default = {'host': 'https://clickhouse.lab.karpov.courses',\n",
    "                      'database':'default',\n",
    "                      'user':'student', \n",
    "                      'password':'dpo_python_2020'\n",
    "                     } \n",
    "# Импортируем библиотеку pandahouse и подключаемся к  нужной базе данных в Clickhouse"
   ]
  },
  {
   "cell_type": "markdown",
   "id": "3264f12a",
   "metadata": {},
   "source": [
    "Атрибуты таблицы:\n",
    "- st_id (int) - ID ученика\n",
    "- timest (timestamp) - Время решения карточки\n",
    "- correct (bool) - Правильно ли решена горошина?\n",
    "- subject (text) - Дисциплина, в которой находится горошина"
   ]
  },
  {
   "cell_type": "code",
   "execution_count": 266,
   "id": "b78814f7",
   "metadata": {},
   "outputs": [],
   "source": [
    "query_1 = \"\"\"SELECT DISTINCT(toStartOfMonth(timest))\n",
    "from default.peas\n",
    "\"\"\""
   ]
  },
  {
   "cell_type": "code",
   "execution_count": 267,
   "id": "626cc791",
   "metadata": {},
   "outputs": [
    {
     "data": {
      "text/html": [
       "<div>\n",
       "<style scoped>\n",
       "    .dataframe tbody tr th:only-of-type {\n",
       "        vertical-align: middle;\n",
       "    }\n",
       "\n",
       "    .dataframe tbody tr th {\n",
       "        vertical-align: top;\n",
       "    }\n",
       "\n",
       "    .dataframe thead th {\n",
       "        text-align: right;\n",
       "    }\n",
       "</style>\n",
       "<table border=\"1\" class=\"dataframe\">\n",
       "  <thead>\n",
       "    <tr style=\"text-align: right;\">\n",
       "      <th></th>\n",
       "      <th>toStartOfMonth(timest)</th>\n",
       "    </tr>\n",
       "  </thead>\n",
       "  <tbody>\n",
       "    <tr>\n",
       "      <th>0</th>\n",
       "      <td>2021-10-01</td>\n",
       "    </tr>\n",
       "  </tbody>\n",
       "</table>\n",
       "</div>"
      ],
      "text/plain": [
       "  toStartOfMonth(timest)\n",
       "0             2021-10-01"
      ]
     },
     "execution_count": 267,
     "metadata": {},
     "output_type": "execute_result"
    }
   ],
   "source": [
    "ph.read_clickhouse(query_1, connection = connection_default)"
   ]
  },
  {
   "cell_type": "markdown",
   "id": "9acf1cda",
   "metadata": {},
   "source": [
    "В данной таблицы записи указаны за 1 месяц - октябрь 2021"
   ]
  },
  {
   "cell_type": "code",
   "execution_count": 268,
   "id": "bd43fd44",
   "metadata": {},
   "outputs": [],
   "source": [
    "#используем табличные выражения, чтобы сделать запрос более читаемым\n",
    "query_2 = \"\"\"\n",
    "WITH very_hardworking_students AS \n",
    "    (SELECT st_id,\n",
    "    SUM(correct) AS correct_peas\n",
    "    FROM default.peas\n",
    "    GROUP BY st_id\n",
    "    HAVING correct_peas >= 20)\n",
    "\n",
    "    SELECT uniqExact(st_id) AS number_of_students\n",
    "    FROM very_hardworking_students\n",
    "\"\"\""
   ]
  },
  {
   "cell_type": "code",
   "execution_count": 269,
   "id": "7c11c9c0",
   "metadata": {},
   "outputs": [
    {
     "data": {
      "text/html": [
       "<div>\n",
       "<style scoped>\n",
       "    .dataframe tbody tr th:only-of-type {\n",
       "        vertical-align: middle;\n",
       "    }\n",
       "\n",
       "    .dataframe tbody tr th {\n",
       "        vertical-align: top;\n",
       "    }\n",
       "\n",
       "    .dataframe thead th {\n",
       "        text-align: right;\n",
       "    }\n",
       "</style>\n",
       "<table border=\"1\" class=\"dataframe\">\n",
       "  <thead>\n",
       "    <tr style=\"text-align: right;\">\n",
       "      <th></th>\n",
       "      <th>number_of_students</th>\n",
       "    </tr>\n",
       "  </thead>\n",
       "  <tbody>\n",
       "    <tr>\n",
       "      <th>0</th>\n",
       "      <td>136</td>\n",
       "    </tr>\n",
       "  </tbody>\n",
       "</table>\n",
       "</div>"
      ],
      "text/plain": [
       "   number_of_students\n",
       "0                 136"
      ]
     },
     "execution_count": 269,
     "metadata": {},
     "output_type": "execute_result"
    }
   ],
   "source": [
    "ph.read_clickhouse(query_2, connection = connection_default)"
   ]
  },
  {
   "cell_type": "markdown",
   "id": "65140881",
   "metadata": {},
   "source": [
    "### Количество очень усердных учеников равно 136"
   ]
  },
  {
   "cell_type": "markdown",
   "id": "f993cdc8",
   "metadata": {},
   "source": [
    "Если в текущую таюлицу будут добавляться записи за разные месяцы, то необходимо будет использовать следующий запрос"
   ]
  },
  {
   "cell_type": "code",
   "execution_count": 270,
   "id": "a9144368",
   "metadata": {},
   "outputs": [],
   "source": [
    "query_3 = \"\"\"\n",
    "WITH very_hardworking_students AS \n",
    "    (SELECT st_id, \n",
    "    toStartOfMonth(timest) AS month,\n",
    "    SUM(correct) AS correct_peas\n",
    "    FROM default.peas\n",
    "    GROUP BY st_id,month\n",
    "    HAVING correct_peas >= 20)\n",
    "\n",
    "    SELECT month, uniqExact(st_id) AS number_of_students\n",
    "    FROM very_hardworking_students\n",
    "    GROUP BY month\n",
    "\"\"\""
   ]
  },
  {
   "cell_type": "code",
   "execution_count": 271,
   "id": "69c97002",
   "metadata": {},
   "outputs": [
    {
     "data": {
      "text/html": [
       "<div>\n",
       "<style scoped>\n",
       "    .dataframe tbody tr th:only-of-type {\n",
       "        vertical-align: middle;\n",
       "    }\n",
       "\n",
       "    .dataframe tbody tr th {\n",
       "        vertical-align: top;\n",
       "    }\n",
       "\n",
       "    .dataframe thead th {\n",
       "        text-align: right;\n",
       "    }\n",
       "</style>\n",
       "<table border=\"1\" class=\"dataframe\">\n",
       "  <thead>\n",
       "    <tr style=\"text-align: right;\">\n",
       "      <th></th>\n",
       "      <th>month</th>\n",
       "      <th>number_of_students</th>\n",
       "    </tr>\n",
       "  </thead>\n",
       "  <tbody>\n",
       "    <tr>\n",
       "      <th>0</th>\n",
       "      <td>2021-10-01</td>\n",
       "      <td>136</td>\n",
       "    </tr>\n",
       "  </tbody>\n",
       "</table>\n",
       "</div>"
      ],
      "text/plain": [
       "       month  number_of_students\n",
       "0 2021-10-01                 136"
      ]
     },
     "execution_count": 271,
     "metadata": {},
     "output_type": "execute_result"
    }
   ],
   "source": [
    "ph.read_clickhouse(query_3, connection = connection_default)"
   ]
  },
  {
   "cell_type": "markdown",
   "id": "63718117",
   "metadata": {},
   "source": [
    "## 2.2"
   ]
  },
  {
   "cell_type": "markdown",
   "id": "8199186f",
   "metadata": {},
   "source": [
    "Образовательная платформа предлагает пройти студентам курсы по модели trial: студент может решить бесплатно лишь 30 горошин в день. Для неограниченного количества заданий в определенной дисциплине студенту необходимо приобрести полный доступ. Команда провела эксперимент, где был протестирован новый экран оплаты."
   ]
  },
  {
   "cell_type": "markdown",
   "id": "86f9f39d",
   "metadata": {},
   "source": [
    "Даны таблицы: default.peas, default.studs и default.final_project_check"
   ]
  },
  {
   "cell_type": "markdown",
   "id": "ef389502",
   "metadata": {},
   "source": [
    "default.studs:\n",
    "- st_id (int) - ID ученика\n",
    "- test_grp (text) - Метка ученика в данном эксперименте (pilot, control)"
   ]
  },
  {
   "cell_type": "markdown",
   "id": "13a71fc6",
   "metadata": {},
   "source": [
    "default.final_project_check:\n",
    "- st_id (int) - ID ученика\n",
    "- sale_time (timestamp) - время покупки\n",
    "- money (int) - цена, по которой приобрели курс\n",
    "- subject (text) - предмет (всего их 5)"
   ]
  },
  {
   "cell_type": "markdown",
   "id": "6aeb11ca",
   "metadata": {},
   "source": [
    "Необходимо в **одном запросе** выгрузить следующую информацию о группах пользователей:\n",
    "- ARPU \n",
    "- ARPAU \n",
    "- CR в покупку \n",
    "- СR активного пользователя в покупку \n",
    "- CR пользователя из активности по математике (subject = ’math’) в покупку курса по математике"
   ]
  },
  {
   "cell_type": "markdown",
   "id": "d60ab30c",
   "metadata": {},
   "source": [
    "ARPU считается относительно всех пользователей, попавших в группы.\n",
    "**Активным** считается пользователь, за все время решивший больше 10 задач правильно в любых дисциплинах.\n",
    "**Активным** по математике считается пользователь, за все время решивший 2 или больше задач правильно по математике."
   ]
  },
  {
   "cell_type": "code",
   "execution_count": 272,
   "id": "ad639e6c",
   "metadata": {},
   "outputs": [],
   "source": [
    "query_4 = \"\"\"\n",
    "       WITH revenue_and_group_info AS \n",
    "    (SELECT st_id, \n",
    "           revenue_per_user,\n",
    "           test_grp\n",
    "    FROM default.studs AS stud\n",
    "    LEFT JOIN\n",
    "    (SELECT\n",
    "    st_id, SUM(money) AS revenue_per_user\n",
    "    FROM default.final_project_check\n",
    "    GROUP BY st_id) revenue ON stud.st_id = revenue.st_id),\n",
    "    \n",
    "ARPU_and_cr_by_all_students AS\n",
    "    (SELECT test_grp,\n",
    "    ROUND(SUM(revenue_per_user) / uniqExact(st_id),3) AS ARPU,\n",
    "    ROUND((uniqExactIf(st_id, revenue_per_user != 0)*100 / uniqExact(st_id)),3) AS convertion_rate\n",
    "    FROM revenue_and_group_info\n",
    "    GROUP BY test_grp), \n",
    "    \n",
    "ARPAU_and_cr_by_active_users AS\n",
    "    (SELECT test_grp,\n",
    "            ROUND(SUM(revenue_per_user) / uniqExactIf(st_id, active_or_not = 'active'),3) AS ARPAU,\n",
    "            ROUND((uniqExactIf(st_id, active_or_not = 'active' AND revenue_per_user != 0) / uniqExactIf(st_id, active_or_not = 'active'))*100,3) AS cr_by_active_users\n",
    "    FROM revenue_and_group_info r\n",
    "    LEFT JOIN\n",
    "    (SELECT st_id,\n",
    "            SUM(correct) AS number_of_tasks,\n",
    "            'active' AS active_or_not\n",
    "    FROM default.peas\n",
    "    GROUP BY st_id\n",
    "    HAVING number_of_tasks > 10) t1 ON r.st_id = t1.st_id\n",
    "    GROUP BY test_grp),\n",
    "    \n",
    " cr_by_math AS \n",
    "    (SELECT test_grp,\n",
    "            ROUND((uniqExactIf(st_id, active_or_not_in_math = 'math_active' AND revenue_per_user != 0) / uniqExactIf(st_id, active_or_not_in_math = 'math_active'))*100,3) AS cr_math\n",
    "    FROM revenue_and_group_info r\n",
    "    LEFT JOIN\n",
    "        (SELECT st_id,\n",
    "                SUM(correct) AS number_of_tasks,\n",
    "                'math_active' AS active_or_not_in_math\n",
    "        FROM default.peas\n",
    "        WHERE subject = 'Math'\n",
    "        GROUP BY st_id\n",
    "        HAVING number_of_tasks >= 2) m \n",
    "    ON r.st_id = m.st_id\n",
    "    GROUP BY test_grp)\n",
    "        \n",
    "SELECT  ARPU_and_cr_by_all_students.test_grp AS group,\n",
    "        ARPU,\n",
    "        ARPAU,\n",
    "        convertion_rate,\n",
    "        cr_by_active_users,\n",
    "        cr_math\n",
    "FROM ARPU_and_cr_by_all_students\n",
    "JOIN ARPAU_and_cr_by_active_users ON ARPU_and_cr_by_all_students.test_grp = ARPAU_and_cr_by_active_users.test_grp\n",
    "JOIN cr_by_math ON ARPU_and_cr_by_all_students.test_grp = cr_by_math.test_grp\n",
    "        \"\"\""
   ]
  },
  {
   "cell_type": "code",
   "execution_count": 273,
   "id": "4eb1c79a",
   "metadata": {},
   "outputs": [
    {
     "data": {
      "text/html": [
       "<div>\n",
       "<style scoped>\n",
       "    .dataframe tbody tr th:only-of-type {\n",
       "        vertical-align: middle;\n",
       "    }\n",
       "\n",
       "    .dataframe tbody tr th {\n",
       "        vertical-align: top;\n",
       "    }\n",
       "\n",
       "    .dataframe thead th {\n",
       "        text-align: right;\n",
       "    }\n",
       "</style>\n",
       "<table border=\"1\" class=\"dataframe\">\n",
       "  <thead>\n",
       "    <tr style=\"text-align: right;\">\n",
       "      <th></th>\n",
       "      <th>group</th>\n",
       "      <th>ARPU</th>\n",
       "      <th>ARPAU</th>\n",
       "      <th>convertion_rate</th>\n",
       "      <th>cr_by_active_users</th>\n",
       "      <th>cr_math</th>\n",
       "    </tr>\n",
       "  </thead>\n",
       "  <tbody>\n",
       "    <tr>\n",
       "      <th>0</th>\n",
       "      <td>control</td>\n",
       "      <td>4540.984</td>\n",
       "      <td>10905.512</td>\n",
       "      <td>4.918</td>\n",
       "      <td>11.024</td>\n",
       "      <td>10.204</td>\n",
       "    </tr>\n",
       "    <tr>\n",
       "      <th>1</th>\n",
       "      <td>pilot</td>\n",
       "      <td>11508.475</td>\n",
       "      <td>35364.583</td>\n",
       "      <td>10.847</td>\n",
       "      <td>26.042</td>\n",
       "      <td>14.286</td>\n",
       "    </tr>\n",
       "  </tbody>\n",
       "</table>\n",
       "</div>"
      ],
      "text/plain": [
       "     group       ARPU      ARPAU  convertion_rate  cr_by_active_users  cr_math\n",
       "0  control   4540.984  10905.512            4.918              11.024   10.204\n",
       "1    pilot  11508.475  35364.583           10.847              26.042   14.286"
      ]
     },
     "execution_count": 273,
     "metadata": {},
     "output_type": "execute_result"
    }
   ],
   "source": [
    "ph.read_clickhouse(query_4, connection = connection_default)"
   ]
  },
  {
   "cell_type": "markdown",
   "id": "29bb6654",
   "metadata": {},
   "source": [
    "# Задание 3 "
   ]
  },
  {
   "cell_type": "markdown",
   "id": "31d92119",
   "metadata": {},
   "source": [
    "Реализуйте функцию, которая будет автоматически подгружать информацию из дополнительного файла groups_add.csv (заголовки могут отличаться) и на основании дополнительных параметров пересчитывать метрики.\n",
    "\n",
    "Реализуйте функцию, которая будет строить графики по получаемым метрикам."
   ]
  },
  {
   "cell_type": "code",
   "execution_count": 274,
   "id": "a2597a44",
   "metadata": {},
   "outputs": [],
   "source": [
    "def insert_new_data(public_key): \n",
    "#sep не указываем в качестве аргумента, потому что в датафрейме разделитель - запятая, а она и так стоит по дефолту в read_csv\n",
    "    \n",
    "    # загружаем данные через API\n",
    "    base_url = 'https://cloud-api.yandex.net/v1/disk/public/resources/download?'\n",
    "    \n",
    "    url = base_url + urlencode(dict(public_key = public_key))\n",
    "    \n",
    "    query=requests.get(url)\n",
    "    json_data = json.loads(query.text)\n",
    "    \n",
    "    df=pd.read_csv(json_data['href'])\n",
    "    \n",
    "    # Изменим заголовки на изначальные, т.к. они могут отличаться\n",
    "    df = df.rename(columns = {df.columns[0]: 'id', df.columns[1]: 'grp'})\n",
    "    \n",
    "    # Соеденим датафреймы\n",
    "    all_groups_df = pd.concat([df_groups, df])\n",
    "    \n",
    "    \n",
    "    \n",
    "    # Расчёт метрик\n",
    "    \n",
    "    active_users_and_check = df_active_studs.merge(df_checks, on = 'student_id', how = 'left')\n",
    "    active_users_and_check.rename(columns={'student_id':'id'}, inplace=True)\n",
    "    active_users_check_group = pd.merge(active_users_and_check, all_groups_df, on = 'id', how = 'left')\n",
    "    \n",
    "    ARPPU = active_users_check_group.groupby('grp').agg({'rev': 'mean'}).rename(columns = {'rev': 'ARPPU'}).round(3)\n",
    "    \n",
    "    ARPAU = active_users_check_group.groupby('grp').agg({'rev': 'sum', 'id': 'nunique'})\n",
    "    ARPAU['ARPAU']=round(ARPAU['rev']/ARPAU['id'],3)\n",
    "    \n",
    "    # Convertion rate from active users\n",
    "    active_users_check_group['purchase_or_not'] = active_users_check_group.rev.apply(lambda x: 0 if pd.isna(x) else 1)\n",
    "    cr_from_active = active_users_check_group.pivot_table(index = 'purchase_or_not', columns = 'grp', values = 'id', aggfunc = 'count')\n",
    "    cr_from_active.loc['sum']=cr_from_active.iloc[0]+cr_from_active.iloc[1]\n",
    "    cr_from_active=cr_from_active.transpose()\n",
    "    cr_from_active['conv']=round(cr_from_active.iloc[:,1]*100/cr_from_active.iloc[:,2],3)\n",
    "    \n",
    "    return  ARPPU.merge(ARPAU['ARPAU'], on = 'grp').merge(cr_from_active['conv'], on = 'grp') "
   ]
  },
  {
   "cell_type": "code",
   "execution_count": 275,
   "id": "075192db",
   "metadata": {},
   "outputs": [
    {
     "data": {
      "text/html": [
       "<div>\n",
       "<style scoped>\n",
       "    .dataframe tbody tr th:only-of-type {\n",
       "        vertical-align: middle;\n",
       "    }\n",
       "\n",
       "    .dataframe tbody tr th {\n",
       "        vertical-align: top;\n",
       "    }\n",
       "\n",
       "    .dataframe thead th {\n",
       "        text-align: right;\n",
       "    }\n",
       "</style>\n",
       "<table border=\"1\" class=\"dataframe\">\n",
       "  <thead>\n",
       "    <tr style=\"text-align: right;\">\n",
       "      <th></th>\n",
       "      <th>ARPPU</th>\n",
       "      <th>ARPAU</th>\n",
       "      <th>conv</th>\n",
       "    </tr>\n",
       "    <tr>\n",
       "      <th>grp</th>\n",
       "      <th></th>\n",
       "      <th></th>\n",
       "      <th></th>\n",
       "    </tr>\n",
       "  </thead>\n",
       "  <tbody>\n",
       "    <tr>\n",
       "      <th>A</th>\n",
       "      <td>933.590</td>\n",
       "      <td>47.347</td>\n",
       "      <td>5.072</td>\n",
       "    </tr>\n",
       "    <tr>\n",
       "      <th>B</th>\n",
       "      <td>1257.879</td>\n",
       "      <td>58.059</td>\n",
       "      <td>4.616</td>\n",
       "    </tr>\n",
       "  </tbody>\n",
       "</table>\n",
       "</div>"
      ],
      "text/plain": [
       "        ARPPU   ARPAU   conv\n",
       "grp                         \n",
       "A     933.590  47.347  5.072\n",
       "B    1257.879  58.059  4.616"
      ]
     },
     "execution_count": 275,
     "metadata": {},
     "output_type": "execute_result"
    }
   ],
   "source": [
    "metrics=insert_new_data('https://disk.yandex.ru/d/5Kxrz02m3IBUwQ')\n",
    "metrics"
   ]
  },
  {
   "cell_type": "code",
   "execution_count": 276,
   "id": "071f8034",
   "metadata": {},
   "outputs": [],
   "source": [
    "def visualization(metrics):\n",
    "    \n",
    "    fig, axs = plt.subplots(1, 3, figsize=(15, 5))\n",
    "    \n",
    "    sns.barplot(data = metrics, x = 'grp', y = 'ARPPU', ax = axs[0])\n",
    "    axs[0].set_title('ARPPU')\n",
    "    \n",
    "    sns.barplot(data = metrics, x = 'grp', y = 'ARPAU', ax = axs[1])\n",
    "    axs[1].set_title('ARPAU')\n",
    "    \n",
    "    sns.barplot(data = metrics, x = 'grp', y = 'conv', ax = axs[2])\n",
    "    axs[2].set_title('Conversion rate from active users, %')"
   ]
  },
  {
   "cell_type": "code",
   "execution_count": 277,
   "id": "47ba1726",
   "metadata": {},
   "outputs": [
    {
     "data": {
      "image/png": "[encoded data removed]",
      "text/plain": [
       "<Figure size 1080x360 with 3 Axes>"
      ]
     },
     "metadata": {
      "needs_background": "light"
     },
     "output_type": "display_data"
    }
   ],
   "source": [
    "visualization(metrics.reset_index())"
   ]
  }
 ],
 "metadata": {
  "kernelspec": {
   "display_name": "Python 3 (ipykernel)",
   "language": "python",
   "name": "python3"
  },
  "language_info": {
   "codemirror_mode": {
    "name": "ipython",
    "version": 3
   },
   "file_extension": ".py",
   "mimetype": "text/x-python",
   "name": "python",
   "nbconvert_exporter": "python",
   "pygments_lexer": "ipython3",
   "version": "3.9.12"
  }
 },
 "nbformat": 4,
 "nbformat_minor": 5
}
